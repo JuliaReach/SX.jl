{
 "cells": [
  {
   "cell_type": "markdown",
   "metadata": {},
   "source": [
    "**Contents**\n",
    "\n",
    "- [Introduction](#Introduction)\n",
    "- [Time-varying input](#Time-varying-input)\n",
    "    - [Dense time reachability plots](#dense-reach-plots-TV)\n",
    "    - [Check mode (dense time)](#check-dense-TV)\n",
    "    - [Check mode (discrete time)](#check-discrete-TV)\n",
    "        - [Experimental settings](#Experimental-settings)\n",
    "- [Constant input](#Constant-input)\n",
    "    - [Dense time reachability plots](#dense-reach-plots-CONST)\n",
    "    - [Check mode (dense time)](#check-dense-CONST)\n",
    "    - [Check mode (discrete time)](#check-discrete-CONST)"
   ]
  },
  {
   "cell_type": "markdown",
   "metadata": {},
   "source": [
    "## Introduction"
   ]
  },
  {
   "cell_type": "markdown",
   "metadata": {},
   "source": [
    "This benchmark is taken from [1]. The model files were taken from the attachments to [2].\n",
    "\n",
    "There are two instances:\n",
    "\n",
    "1. theta1_100percent refers to the initial states as given in the TACAS 2017 paper above.\n",
    "\n",
    "2. theta1_5percent has the initial states with the same center, but shrunken in diameter to 5%.\n",
    "\n",
    "[1] *M. Althoff and B. H. Krogh. Avoiding geometric intersection operations in reachability analysis of hybrid systems. In Hybrid Systems: Computation and Control, pages 45-54, 2012*\n",
    "\n",
    "[2] *\"Rigorous Simulation-Based Analysis of Linear Hybrid Systems\", S. Bak, P. Duggirala, 23rd International Conference on Tools and Algorithms for the Construction and Analysis of Systems (TACAS 2017).*"
   ]
  },
  {
   "cell_type": "code",
   "execution_count": 1,
   "metadata": {},
   "outputs": [],
   "source": [
    "using SX, Reachability, MAT, Plots"
   ]
  },
  {
   "cell_type": "code",
   "execution_count": 11,
   "metadata": {},
   "outputs": [
    {
     "name": "stderr",
     "output_type": "stream",
     "text": [
      "\u001b[1m\u001b[33mWARNING: \u001b[39m\u001b[22m\u001b[33mfield labelposition in transition 4 → 1 is ignored\u001b[39m\n",
      "\u001b[1m\u001b[33mWARNING: \u001b[39m\u001b[22m\u001b[33mfield middlepoint in transition 4 → 1 is ignored\u001b[39m\n",
      "\u001b[1m\u001b[33mWARNING: \u001b[39m\u001b[22m\u001b[33mfield labelposition in transition 1 → 2 is ignored\u001b[39m\n",
      "\u001b[1m\u001b[33mWARNING: \u001b[39m\u001b[22m\u001b[33mfield middlepoint in transition 1 → 2 is ignored\u001b[39m\n",
      "\u001b[1m\u001b[33mWARNING: \u001b[39m\u001b[22m\u001b[33mfield labelposition in transition 2 → 3 is ignored\u001b[39m\n",
      "\u001b[1m\u001b[33mWARNING: \u001b[39m\u001b[22m\u001b[33mfield middlepoint in transition 2 → 3 is ignored\u001b[39m\n",
      "\u001b[1m\u001b[33mWARNING: \u001b[39m\u001b[22m\u001b[33mfield labelposition in transition 2 → 1 is ignored\u001b[39m\n",
      "\u001b[1m\u001b[33mWARNING: \u001b[39m\u001b[22m\u001b[33mfield middlepoint in transition 2 → 1 is ignored\u001b[39m\n",
      "\u001b[1m\u001b[33mWARNING: \u001b[39m\u001b[22m\u001b[33mfield labelposition in transition 3 → 2 is ignored\u001b[39m\n",
      "\u001b[1m\u001b[33mWARNING: \u001b[39m\u001b[22m\u001b[33mfield middlepoint in transition 3 → 2 is ignored\u001b[39m\n"
     ]
    }
   ],
   "source": [
    "file = \"drivetrain_theta1_5percent_flat_manually.xml\"\n",
    "H = readsxmodel(file, ST=ConstrainedLinearControlContinuousSystem);"
   ]
  },
  {
   "cell_type": "code",
   "execution_count": 8,
   "metadata": {},
   "outputs": [
    {
     "data": {
      "text/plain": [
       "1-element Array{LazySets.LazySet{Float64},1}:\n",
       " LazySets.HalfSpace{Float64}([1.0, 0.0, 0.0, 0.0, 0.0, 0.0, 0.0, 0.0, 0.0, 0.0], -0.03)"
      ]
     },
     "execution_count": 8,
     "metadata": {},
     "output_type": "execute_result"
    }
   ],
   "source": [
    "H.modes[1].X"
   ]
  },
  {
   "cell_type": "code",
   "execution_count": 9,
   "metadata": {},
   "outputs": [
    {
     "data": {
      "text/plain": [
       "1-element Array{LazySets.Singleton{Float64},1}:\n",
       " LazySets.Singleton{Float64}([1.0])"
      ]
     },
     "execution_count": 9,
     "metadata": {},
     "output_type": "execute_result"
    }
   ],
   "source": [
    "H.modes[1].U"
   ]
  }
 ],
 "metadata": {
  "kernelspec": {
   "display_name": "Julia 0.6.1",
   "language": "julia",
   "name": "julia-0.6"
  },
  "language_info": {
   "file_extension": ".jl",
   "mimetype": "application/julia",
   "name": "julia",
   "version": "0.6.1"
  }
 },
 "nbformat": 4,
 "nbformat_minor": 2
}
